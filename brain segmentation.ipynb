{
 "cells": [
  {
   "cell_type": "code",
   "execution_count": 107,
   "metadata": {
    "colab": {
     "base_uri": "https://localhost:8080/",
     "height": 34
    },
    "colab_type": "code",
    "id": "nFKBCGqrTa0C",
    "outputId": "3f602234-7ca5-4d01-e2fd-7965fd8217ad"
   },
   "outputs": [
    {
     "name": "stdout",
     "output_type": "stream",
     "text": [
      "Requirement already satisfied: dicom in /usr/local/lib/python3.6/dist-packages (0.9.9.post1)\n"
     ]
    }
   ],
   "source": [
    "# install dependencies not included by Colab\n",
    "# use pip3 to ensure compatibility w/ Google Deep Learning Images \n",
    "!pip3 install -q pydicom \n",
    "!pip3 install -q tqdm \n",
    "!pip3 install -q imgaug \n",
    "! pip install dicom"
   ]
  },
  {
   "cell_type": "code",
   "execution_count": 0,
   "metadata": {
    "colab": {},
    "colab_type": "code",
    "id": "cD6ZIoeSOFrj"
   },
   "outputs": [],
   "source": [
    "import dicom\n",
    "from skimage.segmentation import clear_border\n",
    "from skimage.measure import label,regionprops, perimeter\n",
    "from skimage.morphology import ball, disk, dilation, binary_erosion, remove_small_objects, erosion, closing, reconstruction, binary_closing\n",
    "from skimage.measure import label,regionprops, perimeter\n",
    "from skimage.filters import roberts, sobel\n",
    "from skimage import measure, feature\n",
    "from skimage.segmentation import clear_border\n",
    "from skimage import data\n",
    "from scipy import ndimage as ndi\n",
    "import matplotlib.pyplot as plt"
   ]
  },
  {
   "cell_type": "code",
   "execution_count": 0,
   "metadata": {
    "colab": {},
    "colab_type": "code",
    "id": "dKqUHnLjqaY-"
   },
   "outputs": [],
   "source": [
    "import os\n",
    "import sys\n",
    "import random\n",
    "import math\n",
    "import numpy as np\n",
    "import cv2\n",
    "import matplotlib.pyplot as plt\n",
    "import json\n",
    "import pydicom\n",
    "from imgaug import augmenters as iaa\n",
    "import itertools\n",
    "import colorsys\n",
    "\n",
    "from skimage.measure import find_contours\n",
    "from matplotlib import patches,  lines\n",
    "from matplotlib.patches import Polygon\n",
    "import IPython.display\n",
    "\n",
    "\n",
    "%matplotlib inline "
   ]
  },
  {
   "cell_type": "code",
   "execution_count": 110,
   "metadata": {
    "colab": {
     "base_uri": "https://localhost:8080/",
     "height": 34
    },
    "colab_type": "code",
    "id": "ETc5eCOtqfEc",
    "outputId": "e8237c9c-2809-4736-c539-3ec8e2ea0c0c"
   },
   "outputs": [
    {
     "data": {
      "text/plain": [
       "'0.4.1'"
      ]
     },
     "execution_count": 110,
     "metadata": {
      "tags": []
     },
     "output_type": "execute_result"
    }
   ],
   "source": [
    "!pip install --upgrade --quiet mdai\n",
    "import mdai\n",
    "mdai.__version__"
   ]
  },
  {
   "cell_type": "code",
   "execution_count": 0,
   "metadata": {
    "colab": {},
    "colab_type": "code",
    "id": "nt5sBuruqi8J"
   },
   "outputs": [],
   "source": [
    "# Root directory of the project\n",
    "ROOT_DIR = os.path.abspath('/content/')\n",
    "\n",
    "# Directory to save logs and trained model\n",
    "MODEL_DIR = os.path.join(ROOT_DIR, 'logs')\n",
    "\n",
    "if not os.path.exists(ROOT_DIR):\n",
    "    os.makedirs(ROOT_DIR)\n",
    "os.chdir(ROOT_DIR)"
   ]
  },
  {
   "cell_type": "code",
   "execution_count": 112,
   "metadata": {
    "colab": {
     "base_uri": "https://localhost:8080/",
     "height": 68
    },
    "colab_type": "code",
    "id": "X9ornbjqq0A-",
    "outputId": "1e3f6dc8-7970-426d-d375-9723b85cf10e"
   },
   "outputs": [
    {
     "name": "stdout",
     "output_type": "stream",
     "text": [
      "fatal: destination path 'Mask_RCNN' already exists and is not an empty directory.\n",
      "WARNING:root:Fail load requirements file, so using default ones.\n",
      "zip_safe flag not set; analyzing archive contents...\n"
     ]
    }
   ],
   "source": [
    "!git clone https://github.com/matterport/Mask_RCNN.git\n",
    "os.chdir('Mask_RCNN')\n",
    "!pip install -q -r requirements.txt\n",
    "!python setup.py -q install"
   ]
  },
  {
   "cell_type": "code",
   "execution_count": 0,
   "metadata": {
    "colab": {},
    "colab_type": "code",
    "id": "Lp7hNAjhq4RM"
   },
   "outputs": [],
   "source": [
    "# Import Mask RCNN\n",
    "sys.path.append(os.path.join(ROOT_DIR, 'Mask_RCNN'))  # To find local version of the library\n",
    "from mrcnn.config import Config\n",
    "from mrcnn import utils\n",
    "import mrcnn.model as modellib\n",
    "from mrcnn import visualize\n",
    "from mrcnn.model import log"
   ]
  },
  {
   "cell_type": "code",
   "execution_count": 114,
   "metadata": {
    "colab": {
     "base_uri": "https://localhost:8080/",
     "height": 34
    },
    "colab_type": "code",
    "id": "QUiFMHzmsgCr",
    "outputId": "0599249a-d8f6-4691-ffe5-bc8ea1906888"
   },
   "outputs": [
    {
     "name": "stdout",
     "output_type": "stream",
     "text": [
      "Successfully authenticated to public.md.ai.\n"
     ]
    }
   ],
   "source": [
    "mdai_client = mdai.Client(domain='public.md.ai', access_token='')"
   ]
  },
  {
   "cell_type": "code",
   "execution_count": 115,
   "metadata": {
    "colab": {
     "base_uri": "https://localhost:8080/",
     "height": 102
    },
    "colab_type": "code",
    "id": "DsM9pM86smhJ",
    "outputId": "470315fa-420e-4efb-be24-04b275e0f60b"
   },
   "outputs": [
    {
     "name": "stdout",
     "output_type": "stream",
     "text": [
      "Using working directory for data.\n",
      "Preparing annotations export for project vmRlpkRY...                                                \n",
      "Using cached annotations data for project vmRlpkRY.\n",
      "Preparing images export for project vmRlpkRY...                                                     \n",
      "Using cached images data for project vmRlpkRY.\n"
     ]
    }
   ],
   "source": [
    "p = mdai_client.project('vmRlpkRY')"
   ]
  },
  {
   "cell_type": "code",
   "execution_count": 116,
   "metadata": {
    "colab": {
     "base_uri": "https://localhost:8080/",
     "height": 119
    },
    "colab_type": "code",
    "id": "cYYNxg1nupNk",
    "outputId": "c9cf402d-702f-4600-a8ce-e51e8a8c6d01"
   },
   "outputs": [
    {
     "name": "stdout",
     "output_type": "stream",
     "text": [
      "Label Group, Id: G_95k8Q2, Name: Default group\n",
      "\tLabels:\n",
      "\tId: L_B5ObGd, Name: Brain\n",
      "\tId: L_B7MNbd, Name: Final Label\n",
      "\tId: L_Brp56d, Name: Label 1\n",
      "\n"
     ]
    }
   ],
   "source": [
    "p.show_label_groups()"
   ]
  },
  {
   "cell_type": "code",
   "execution_count": 117,
   "metadata": {
    "colab": {
     "base_uri": "https://localhost:8080/",
     "height": 34
    },
    "colab_type": "code",
    "id": "jTGJBQOkuyiT",
    "outputId": "d75297f5-a710-43a3-cbc3-1e28da493ff5"
   },
   "outputs": [
    {
     "name": "stdout",
     "output_type": "stream",
     "text": [
      "{'L_B7MNbd': 1}\n"
     ]
    }
   ],
   "source": [
    "# this maps label ids to class ids\n",
    "labels_dict = {\n",
    "               'L_B7MNbd':1, # brain\n",
    "              }\n",
    "\n",
    "print(labels_dict)\n",
    "p.set_labels_dict(labels_dict)"
   ]
  },
  {
   "cell_type": "code",
   "execution_count": 118,
   "metadata": {
    "colab": {
     "base_uri": "https://localhost:8080/",
     "height": 68
    },
    "colab_type": "code",
    "id": "cmJNQSUGu5nV",
    "outputId": "c1b03172-b072-4468-c7e1-f6aca792687b"
   },
   "outputs": [
    {
     "name": "stdout",
     "output_type": "stream",
     "text": [
      "Datasets:\n",
      "Id: D_1Qzp7E, Name: Dataset updated\n",
      "\n"
     ]
    }
   ],
   "source": [
    "p.show_datasets()"
   ]
  },
  {
   "cell_type": "code",
   "execution_count": 0,
   "metadata": {
    "colab": {},
    "colab_type": "code",
    "id": "PU094Xmfu7Sd"
   },
   "outputs": [],
   "source": [
    "dataset = p.get_dataset_by_id('D_1Qzp7E')\n",
    "dataset.prepare()"
   ]
  },
  {
   "cell_type": "code",
   "execution_count": 120,
   "metadata": {
    "colab": {
     "base_uri": "https://localhost:8080/",
     "height": 34
    },
    "colab_type": "code",
    "id": "Sc8Q_FvgvCKC",
    "outputId": "6f72bd0e-3b19-40b8-dba3-e466fe087550"
   },
   "outputs": [
    {
     "name": "stdout",
     "output_type": "stream",
     "text": [
      "Label id: L_B7MNbd, Class id: 1, Class text: Final Label\n"
     ]
    }
   ],
   "source": [
    "dataset.show_classes()"
   ]
  },
  {
   "cell_type": "code",
   "execution_count": 0,
   "metadata": {
    "colab": {},
    "colab_type": "code",
    "id": "neI8YF1eF7Af"
   },
   "outputs": [],
   "source": [
    "#override mdai package-train_test_split\n",
    "import random\n",
    "import copy\n",
    "def train_test_split_2(dataset, shuffle=True, validation_split=0.1):\n",
    "  if validation_split < 0.0 or validation_split >1.0:\n",
    "    raise ValueError(\"{} is not a valid split ratio.\".format(validation_split))\n",
    "  image_ids_list = dataset.get_image_ids()\n",
    "  if shuffle:\n",
    "    sorted(image_ids_list)\n",
    "    random.seed(42)\n",
    "    random.shuffle(image_ids_list)\n",
    "\n",
    "  split_index = int((1 - validation_split) * len(image_ids_list))\n",
    "  train_image_ids = image_ids_list[:40]#40\n",
    "  valid_image_ids = image_ids_list[40:50]#40-50\n",
    "  \n",
    "  def filter_by_ids(ids, imgs_anns_dict):\n",
    "    print(ids)\n",
    "    return {x: imgs_anns_dict[x] for x in ids}\n",
    "\n",
    "  train_dataset = copy.deepcopy(dataset)\n",
    "  train_dataset.id = dataset.id + \"-TRAIN-2\"\n",
    "\n",
    "  valid_dataset = copy.deepcopy(dataset)\n",
    "  valid_dataset.id = dataset.id + \"-VALID-2\"\n",
    "\n",
    "  imgs_anns_dict = dataset.imgs_anns_dict\n",
    "\n",
    "  train_imgs_anns_dict = filter_by_ids(train_image_ids, imgs_anns_dict)\n",
    "  valid_imgs_anns_dict = filter_by_ids(valid_image_ids, imgs_anns_dict)\n",
    "\n",
    "  train_dataset.image_ids = train_image_ids\n",
    "  valid_dataset.image_ids = valid_image_ids\n",
    "\n",
    "  train_dataset.imgs_anns_dict = train_imgs_anns_dict\n",
    "  valid_dataset.imgs_anns_dict = valid_imgs_anns_dict\n",
    "\n",
    "  print(\n",
    "      \"Num of instances for training set: %d, validation set: %d\"\n",
    "      % (len(train_image_ids), len(valid_image_ids))\n",
    "  )\n",
    "  return train_dataset, valid_dataset\n"
   ]
  },
  {
   "cell_type": "code",
   "execution_count": 122,
   "metadata": {
    "colab": {
     "base_uri": "https://localhost:8080/",
     "height": 88
    },
    "colab_type": "code",
    "id": "fFKqmILsvFUf",
    "outputId": "c0e846ca-e28d-411c-d970-fb5d49281b45"
   },
   "outputs": [
    {
     "name": "stdout",
     "output_type": "stream",
     "text": [
      "['./mdai_public_project_vmRlpkRY_images_2019-09-13-153802/110000000000558/110000000000563/110000000019553.dcm', './mdai_public_project_vmRlpkRY_images_2019-09-13-153802/110000000005973/110000000006047/110000000211932.dcm', './mdai_public_project_vmRlpkRY_images_2019-09-13-153802/110000000006270/110000000006346/110000000222549.dcm', './mdai_public_project_vmRlpkRY_images_2019-09-13-153802/110000000006265/110000000006341/110000000222371.dcm', './mdai_public_project_vmRlpkRY_images_2019-09-13-153802/110000000005973/110000000006047/110000000211930.dcm', './mdai_public_project_vmRlpkRY_images_2019-09-13-153802/110000000006265/110000000006341/110000000222365.dcm', './mdai_public_project_vmRlpkRY_images_2019-09-13-153802/110000000006265/110000000006341/110000000222368.dcm', './mdai_public_project_vmRlpkRY_images_2019-09-13-153802/110000000000867/110000000000881/110000000030663.dcm', './mdai_public_project_vmRlpkRY_images_2019-09-13-153802/110000000000866/110000000000880/110000000030623.dcm', './mdai_public_project_vmRlpkRY_images_2019-09-13-153802/110000000001055/110000000001071/110000000037281.dcm', './mdai_public_project_vmRlpkRY_images_2019-09-13-153802/110000000000876/110000000000890/110000000030971.dcm', './mdai_public_project_vmRlpkRY_images_2019-09-13-153802/110000000000865/110000000000879/110000000030590.dcm', './mdai_public_project_vmRlpkRY_images_2019-09-13-153802/110000000000079/110000000000079/110000000002775.dcm', './mdai_public_project_vmRlpkRY_images_2019-09-13-153802/110000000006273/110000000006349/110000000222653.dcm', './mdai_public_project_vmRlpkRY_images_2019-09-13-153802/110000000000876/110000000000890/110000000030966.dcm', './mdai_public_project_vmRlpkRY_images_2019-09-13-153802/110000000000564/110000000000569/110000000019739.dcm', './mdai_public_project_vmRlpkRY_images_2019-09-13-153802/110000000000875/110000000000889/110000000030927.dcm', './mdai_public_project_vmRlpkRY_images_2019-09-13-153802/110000000006031/110000000006105/110000000213984.dcm', './mdai_public_project_vmRlpkRY_images_2019-09-13-153802/110000000007022/110000000007111/110000000249400.dcm', './mdai_public_project_vmRlpkRY_images_2019-09-13-153802/110000000000565/110000000000570/110000000019783.dcm', './mdai_public_project_vmRlpkRY_images_2019-09-13-153802/110000000000867/110000000000881/110000000030667.dcm', './mdai_public_project_vmRlpkRY_images_2019-09-13-153802/110000000000872/110000000000886/110000000030817.dcm', './mdai_public_project_vmRlpkRY_images_2019-09-13-153802/110000000006038/110000000006112/110000000214245.dcm', './mdai_public_project_vmRlpkRY_images_2019-09-13-153802/110000000007014/110000000007103/110000000249141.dcm', './mdai_public_project_vmRlpkRY_images_2019-09-13-153802/110000000007017/110000000007106/110000000249238.dcm', './mdai_public_project_vmRlpkRY_images_2019-09-13-153802/110000000001932/110000000001962/110000000068300.dcm', './mdai_public_project_vmRlpkRY_images_2019-09-13-153802/110000000000872/110000000000886/110000000030816.dcm', './mdai_public_project_vmRlpkRY_images_2019-09-13-153802/110000000001920/110000000001950/110000000067875.dcm', './mdai_public_project_vmRlpkRY_images_2019-09-13-153802/110000000001922/110000000001952/110000000067937.dcm', './mdai_public_project_vmRlpkRY_images_2019-09-13-153802/110000000000872/110000000000886/110000000030821.dcm', './mdai_public_project_vmRlpkRY_images_2019-09-13-153802/110000000000865/110000000000879/110000000030582.dcm', './mdai_public_project_vmRlpkRY_images_2019-09-13-153802/110000000000865/110000000000879/110000000030579.dcm', './mdai_public_project_vmRlpkRY_images_2019-09-13-153802/110000000000555/110000000000560/110000000019446.dcm', './mdai_public_project_vmRlpkRY_images_2019-09-13-153802/110000000003582/110000000003633/110000000127279.dcm', './mdai_public_project_vmRlpkRY_images_2019-09-13-153802/110000000007022/110000000007111/110000000249395.dcm', './mdai_public_project_vmRlpkRY_images_2019-09-13-153802/110000000006277/110000000006353/110000000222772.dcm', './mdai_public_project_vmRlpkRY_images_2019-09-13-153802/110000000003582/110000000003633/110000000127290.dcm', './mdai_public_project_vmRlpkRY_images_2019-09-13-153802/110000000000567/110000000000572/110000000019854.dcm', './mdai_public_project_vmRlpkRY_images_2019-09-13-153802/110000000006038/110000000006112/110000000214252.dcm', './mdai_public_project_vmRlpkRY_images_2019-09-13-153802/110000000000079/110000000000079/110000000002763.dcm']\n",
      "['./mdai_public_project_vmRlpkRY_images_2019-09-13-153802/110000000000877/110000000000891/110000000030997.dcm', './mdai_public_project_vmRlpkRY_images_2019-09-13-153802/110000000000871/110000000000885/110000000030786.dcm', './mdai_public_project_vmRlpkRY_images_2019-09-13-153802/110000000000562/110000000000567/110000000019676.dcm', './mdai_public_project_vmRlpkRY_images_2019-09-13-153802/110000000007022/110000000007111/110000000249404.dcm', './mdai_public_project_vmRlpkRY_images_2019-09-13-153802/110000000000565/110000000000570/110000000019776.dcm', './mdai_public_project_vmRlpkRY_images_2019-09-13-153802/110000000000556/110000000000561/110000000019475.dcm', './mdai_public_project_vmRlpkRY_images_2019-09-13-153802/110000000006265/110000000006341/110000000222363.dcm', './mdai_public_project_vmRlpkRY_images_2019-09-13-153802/110000000000877/110000000000891/110000000031010.dcm', './mdai_public_project_vmRlpkRY_images_2019-09-13-153802/110000000000875/110000000000889/110000000030930.dcm', './mdai_public_project_vmRlpkRY_images_2019-09-13-153802/110000000000872/110000000000886/110000000030803.dcm']\n",
      "Num of instances for training set: 40, validation set: 10\n"
     ]
    }
   ],
   "source": [
    "train_dataset, valid_dataset = train_test_split_2(dataset)#40"
   ]
  },
  {
   "cell_type": "code",
   "execution_count": 123,
   "metadata": {
    "colab": {
     "base_uri": "https://localhost:8080/",
     "height": 921
    },
    "colab_type": "code",
    "id": "tInp-0QnvJbB",
    "outputId": "18ef08db-597e-415e-cbde-8af7d0ed6352"
   },
   "outputs": [
    {
     "name": "stdout",
     "output_type": "stream",
     "text": [
      "\n",
      "Configurations:\n",
      "BACKBONE                       resnet50\n",
      "BACKBONE_STRIDES               [4, 8, 16, 32, 64]\n",
      "BATCH_SIZE                     4\n",
      "BBOX_STD_DEV                   [0.1 0.1 0.2 0.2]\n",
      "COMPUTE_BACKBONE_SHAPE         None\n",
      "DETECTION_MAX_INSTANCES        3\n",
      "DETECTION_MIN_CONFIDENCE       0.9\n",
      "DETECTION_NMS_THRESHOLD        0.1\n",
      "FPN_CLASSIF_FC_LAYERS_SIZE     512\n",
      "GPU_COUNT                      1\n",
      "GRADIENT_CLIP_NORM             5.0\n",
      "IMAGES_PER_GPU                 4\n",
      "IMAGE_CHANNEL_COUNT            3\n",
      "IMAGE_MAX_DIM                  64\n",
      "IMAGE_META_SIZE                14\n",
      "IMAGE_MIN_DIM                  64\n",
      "IMAGE_MIN_SCALE                0\n",
      "IMAGE_RESIZE_MODE              square\n",
      "IMAGE_SHAPE                    [64 64  3]\n",
      "LEARNING_MOMENTUM              0.9\n",
      "LEARNING_RATE                  0.001\n",
      "LOSS_WEIGHTS                   {'rpn_class_loss': 1.0, 'rpn_bbox_loss': 1.0, 'mrcnn_class_loss': 1.0, 'mrcnn_bbox_loss': 1.0, 'mrcnn_mask_loss': 1.0}\n",
      "MASK_POOL_SIZE                 14\n",
      "MASK_SHAPE                     [28, 28]\n",
      "MAX_GT_INSTANCES               3\n",
      "MEAN_PIXEL                     [123.7 116.8 103.9]\n",
      "MINI_MASK_SHAPE                (56, 56)\n",
      "NAME                           brain\n",
      "NUM_CLASSES                    2\n",
      "POOL_SIZE                      7\n",
      "POST_NMS_ROIS_INFERENCE        1000\n",
      "POST_NMS_ROIS_TRAINING         200\n",
      "PRE_NMS_LIMIT                  6000\n",
      "ROI_POSITIVE_RATIO             0.33\n",
      "RPN_ANCHOR_RATIOS              [0.5, 1, 2]\n",
      "RPN_ANCHOR_SCALES              (32, 64, 128, 256, 512)\n",
      "RPN_ANCHOR_STRIDE              1\n",
      "RPN_BBOX_STD_DEV               [0.1 0.1 0.2 0.2]\n",
      "RPN_NMS_THRESHOLD              0.7\n",
      "RPN_TRAIN_ANCHORS_PER_IMAGE    16\n",
      "STEPS_PER_EPOCH                100\n",
      "TOP_DOWN_PYRAMID_SIZE          32\n",
      "TRAIN_BN                       False\n",
      "TRAIN_ROIS_PER_IMAGE           16\n",
      "USE_MINI_MASK                  True\n",
      "USE_RPN_ROIS                   True\n",
      "VALIDATION_STEPS               50\n",
      "WEIGHT_DECAY                   0.0001\n",
      "\n",
      "\n"
     ]
    }
   ],
   "source": [
    "# These parameters have been changed to reduce run-time per epoch at the expense \n",
    "# of training performance\n",
    "\n",
    "class DetectorConfig(Config):\n",
    "    \"\"\"Configuration for training brain detection on the RSNA brain dataset.\n",
    "    Overrides values in the base Config class.\n",
    "    \"\"\"\n",
    "    NAME = 'brain'\n",
    "    GPU_COUNT = 1\n",
    "    IMAGES_PER_GPU = 4 # on aws, use 16\n",
    "    BACKBONE = 'resnet50'\n",
    "    NUM_CLASSES = 2  # background + 1 brain classes\n",
    "    IMAGE_MIN_DIM = 64 #64\n",
    "    IMAGE_MAX_DIM = 64 #64\n",
    "    FPN_CLASSIF_FC_LAYERS_SIZE=512\n",
    "    #RPN_ANCHOR_SCALES = (32, 64)\n",
    "    TRAIN_ROIS_PER_IMAGE = 16\n",
    "    MAX_GT_INSTANCES = 3\n",
    "    DETECTION_MAX_INSTANCES = 3\n",
    "    DETECTION_MIN_CONFIDENCE = 0.9\n",
    "    DETECTION_NMS_THRESHOLD = 0.1\n",
    "    POST_NMS_ROIS_TRAINING = 200\n",
    "    RPN_TRAIN_ANCHORS_PER_IMAGE = 16\n",
    "    STEPS_PER_EPOCH = 100 \n",
    "    TOP_DOWN_PYRAMID_SIZE = 32\n",
    "    #VALIDATION_STEPS = 25 #default is 50\n",
    "     \n",
    "config = DetectorConfig()\n",
    "config.display()"
   ]
  },
  {
   "cell_type": "code",
   "execution_count": 0,
   "metadata": {
    "colab": {},
    "colab_type": "code",
    "id": "bYA2zVHx0qKk"
   },
   "outputs": [],
   "source": [
    "def load_dicom_image(image_id, to_RGB=False, rescale=False):\n",
    "    \"\"\" Load a DICOM image.\n",
    "\n",
    "    Args:\n",
    "        image_id (str):\n",
    "            image id (filepath).\n",
    "        to_RGB (bool, optional):\n",
    "            Convert grayscale image to RGB.\n",
    "\n",
    "    Returns:\n",
    "        image array.\n",
    "    \"\"\"\n",
    "    ds = pydicom.dcmread(image_id)\n",
    "    try:\n",
    "        image = ds.pixel_array\n",
    "    except Exception:\n",
    "        msg = (\n",
    "            \"Could not read pixel array from DICOM with TransferSyntaxUID \"\n",
    "            + ds.file_meta.TransferSyntaxUID\n",
    "            + \". Likely unsupported compression format.\"\n",
    "        )\n",
    "        print(msg)\n",
    "\n",
    "    if rescale:\n",
    "        max_pixel_value = np.amax(image)\n",
    "        min_pixel_value = np.amin(image)\n",
    "\n",
    "        if max_pixel_value >= 255:\n",
    "            # print(\"Input image pixel range exceeds 255, rescaling for visualization.\")\n",
    "            pixel_range = np.abs(max_pixel_value - min_pixel_value)\n",
    "            pixel_range = pixel_range if pixel_range != 0 else 1\n",
    "            image = image.astype(np.float32) / pixel_range * 255\n",
    "            image = image.astype(np.uint8)\n",
    "\n",
    "    if to_RGB:\n",
    "        # If grayscale. Convert to RGB for consistency.\n",
    "        if len(image.shape) != 3 or image.shape[2] != 3:\n",
    "            image = np.stack((image,) * 3, -1)\n",
    "\n",
    "    return image"
   ]
  },
  {
   "cell_type": "code",
   "execution_count": 0,
   "metadata": {
    "colab": {},
    "colab_type": "code",
    "id": "R8FohjjYwjB9"
   },
   "outputs": [],
   "source": [
    "def mdai_load_mask(image_id, dataset):\n",
    "    \"\"\"Load instance masks for the given image. Masks can be different types,\n",
    "    mask is a binary true/false map of the same size as the image.\n",
    "\n",
    "    \"\"\"\n",
    "    # annotations = imgs_anns[image_id]\n",
    "    annotations = dataset.get_annotations_by_image_id(image_id)\n",
    "    count = len(annotations)\n",
    "    #print(\"Number of annotations: %d\" % count)\n",
    "\n",
    "    image = load_dicom_image(image_id)\n",
    "    width = image.shape[1]\n",
    "    height = image.shape[0]\n",
    "\n",
    "    if count == 0:\n",
    "        print(\"No annotations\")\n",
    "        mask = np.zeros((height, width, 1), dtype=np.uint8)\n",
    "        class_ids = np.zeros((1,), dtype=np.int32)\n",
    "    else:\n",
    "        mask = np.zeros((height, width, count), dtype=np.uint8)\n",
    "        class_ids = np.zeros((count,), dtype=np.int32)\n",
    "\n",
    "        for i, a in enumerate(annotations):\n",
    "\n",
    "            label_id = a[\"labelId\"]\n",
    "            annotation_mode = dataset.label_id_to_class_annotation_mode(label_id)\n",
    "            # print(annotation_mode)\n",
    "\n",
    "            if annotation_mode == \"bbox\":\n",
    "                # Bounding Box\n",
    "                x = int(a[\"data\"][\"x\"])\n",
    "                y = int(a[\"data\"][\"y\"])\n",
    "                w = int(a[\"data\"][\"width\"])\n",
    "                h = int(a[\"data\"][\"height\"])\n",
    "                mask_instance = mask[:, :, i].copy()\n",
    "                cv2.rectangle(mask_instance, (x, y), (x + w, y + h), 255, -1)\n",
    "                mask[:, :, i] = mask_instance\n",
    "\n",
    "            # FreeForm or Polygon\n",
    "            elif annotation_mode == \"freeform\" or annotation_mode == \"polygon\":\n",
    "                vertices = np.array(a[\"data\"][\"vertices\"])\n",
    "                vertices = vertices.reshape((-1, 2))\n",
    "                mask_instance = mask[:, :, i].copy()\n",
    "                cv2.fillPoly(mask_instance, np.int32([vertices]), (255, 255, 255))\n",
    "                mask[:, :, i] = mask_instance\n",
    "\n",
    "            # Line\n",
    "            elif annotation_mode == \"line\":\n",
    "                vertices = np.array(a[\"data\"][\"vertices\"])\n",
    "                vertices = vertices.reshape((-1, 2))\n",
    "                mask_instance = mask[:, :, i].copy()\n",
    "                cv2.polylines(mask_instance, np.int32([vertices]), False, (255, 255, 255), 12)\n",
    "                mask[:, :, i] = mask_instance\n",
    "\n",
    "            elif annotation_mode == \"location\":\n",
    "                # Bounding Box\n",
    "                x = int(a[\"data\"][\"x\"])\n",
    "                y = int(a[\"data\"][\"y\"])\n",
    "                mask_instance = mask[:, :, i].copy()\n",
    "                cv2.circle(mask_instance, (x, y), 7, (255, 255, 255), -1)\n",
    "                mask[:, :, i] = mask_instance\n",
    "\n",
    "            elif annotation_mode is None:\n",
    "                print(\"Not a local instance\")\n",
    "\n",
    "            # load class id\n",
    "            class_ids[i] = dataset.label_id_to_class_id(label_id)\n",
    "\n",
    "    return mask.astype(np.bool), class_ids.astype(np.int32)"
   ]
  },
  {
   "cell_type": "code",
   "execution_count": 0,
   "metadata": {
    "colab": {},
    "colab_type": "code",
    "id": "V_8Jd5cdvMbe"
   },
   "outputs": [],
   "source": [
    "class DetectorDataset(utils.Dataset):\n",
    "    \"\"\"Dataset class for training pneumonia detection on the RSNA pneumonia dataset.\n",
    "    \"\"\"\n",
    "\n",
    "    def __init__(self, source_name, dataset, orig_height, orig_width):\n",
    "        super().__init__(self)\n",
    "        \n",
    "        # add classes \n",
    "        for k, v in dataset.classes_dict.items():\n",
    "            if v['class_id'] is not 0: \n",
    "                self.add_class(source_name, v['class_id'], v['class_text'])\n",
    "\n",
    "        # add images \n",
    "        img_ids = dataset.get_image_ids()\n",
    "        imgs_anns_dict = dataset.imgs_anns_dict\n",
    "        \n",
    "        #########################################################\n",
    "        # WARNING: Using only the first 1000 images to reduce \n",
    "        #          run-time for demonstration only \n",
    "        # To run all images, do: for i, fp in enumerate(img_ids):\n",
    "        #########################################################\n",
    "        for i, fp in enumerate(img_ids[:1000]):\n",
    "            annotations = imgs_anns_dict[fp]\n",
    "            self.add_image(source_name, image_id=i, path=fp, \n",
    "                           annotations=annotations, orig_height=orig_height, orig_width=orig_width)\n",
    "            \n",
    "    def image_reference(self, image_id):\n",
    "        info = self.image_info[image_id]\n",
    "        return info['path']\n",
    "\n",
    "    def load_image(self, image_id):\n",
    "        info = self.image_info[image_id]\n",
    "        fp = info['path']\n",
    "        ds = pydicom.read_file(fp)\n",
    "        image = ds.pixel_array\n",
    "        ''' \n",
    "        #set correct window/level       \n",
    "        image = self.window_image(image, ds.WindowCenter, ds.WindowWidth, ds.RescaleIntercept, ds.RescaleSlope)\n",
    "        ''' \n",
    "        # If grayscale. Convert to RGB for consistency.\n",
    "        if len(image.shape) != 3 or image.shape[2] != 3:\n",
    "            image = np.stack((image,) * 3, -1)\n",
    "        return image\n",
    "        \n",
    "    def window_image(self, img, window_center,window_width, intercept, slope):\n",
    "      if type(window_center) is pydicom.multival.MultiValue: \n",
    "        window_center = window_center[0] \n",
    "      if type(window_width) is pydicom.multival.MultiValue: \n",
    "        window_width = window_width[0]\n",
    "      if slope != 1 or intercept != 0:\n",
    "        img = (img*slope +intercept)\n",
    "      img_min = window_center - window_width/2\n",
    "      img_max = window_center + window_width/2\n",
    "      img[img<img_min] = img_min\n",
    "      img[img>img_max] = img_max\n",
    "      return img \n",
    "    def load_mask(self, image_id):\n",
    "        info = self.image_info[image_id]\n",
    "        annotations = info['annotations']\n",
    "        count = len(annotations)\n",
    "        #print(image_id)\n",
    "        mask_1 = mdai_load_mask(self.image_reference(image_id), dataset)\n",
    "        #mask_1=get_segmented_lungs(item.pixel_array)\n",
    "\n",
    "        if count == 0:\n",
    "            mask = np.zeros((info['orig_height'], info['orig_width'], 1), dtype=np.uint8)\n",
    "            assert(dataset.label_id_to_class_id(a['labelId']) == 0)\n",
    "            class_ids = np.zeros((1,), dtype=np.int64)\n",
    "        else:\n",
    "            mask = np.zeros((info['orig_height'], info['orig_width'], count), dtype=np.uint8)\n",
    "            class_ids = np.zeros((count,), dtype=np.int64)\n",
    "            for i, a in enumerate(annotations):\n",
    "                if a['data'] is not None:\n",
    "                    small=a['data']['vertices']\n",
    "                    x=int(min([i[0] for i in small]))\n",
    "                    w=int(max([i[0] for i in small]))-int(min([i[0] for i in small]))\n",
    "                    y=int(min([i[1] for i in small]))\n",
    "                    h=int(max([i[1] for i in small]))-int(min([i[1] for i in small]))\n",
    "                    '''\n",
    "                    x = int(a['data']['x'])\n",
    "                    y = int(a['data']['y'])\n",
    "                    w = int(a['data']['width'])\n",
    "                    h = int(a['data']['height'])\n",
    "                    '''\n",
    "                    mask_instance = mask[:, :, i].copy()\n",
    "                    cv2.rectangle(mask_instance, (x, y), (x+w, y+h), 255, -1)\n",
    "                    mask[:, :, i] = mask_instance\n",
    "                    class_ids[i] = dataset.label_id_to_class_id(a['labelId'])\n",
    "                    for i in range(y,(y+h)):\n",
    "                      for j in range(x, (x+w)):\n",
    "                        if mask_1[0][i][j]==False:\n",
    "                          mask[i,j]=0\n",
    "        \n",
    "        return mask.astype(np.bool), class_ids.astype(np.int64)\n",
    "    ''' \n",
    "    #override\n",
    "    \n",
    "     '''  "
   ]
  },
  {
   "cell_type": "code",
   "execution_count": 0,
   "metadata": {
    "colab": {},
    "colab_type": "code",
    "id": "vzsn3TPSvSPy"
   },
   "outputs": [],
   "source": [
    "# Training dataset\n",
    "source_name = 'brain'\n",
    "original_size = 512\n",
    "dataset_train = DetectorDataset(source_name, train_dataset, original_size, original_size)\n",
    "dataset_train.prepare()\n",
    "\n",
    "# Validation dataset\n",
    "dataset_val = DetectorDataset(source_name, valid_dataset, original_size, original_size)\n",
    "dataset_val.prepare()"
   ]
  },
  {
   "cell_type": "code",
   "execution_count": 128,
   "metadata": {
    "colab": {
     "base_uri": "https://localhost:8080/",
     "height": 302
    },
    "colab_type": "code",
    "id": "lJmgX8IPvTrz",
    "outputId": "36b2f0d0-eb8e-440c-ee43-e65781e509c6"
   },
   "outputs": [
    {
     "data": {
      "text/plain": [
       "(-0.5, 511.5, 511.5, -0.5)"
      ]
     },
     "execution_count": 128,
     "metadata": {
      "tags": []
     },
     "output_type": "execute_result"
    },
    {
     "data": {
      "image/png": "[encoded data removed]",
      "text/plain": [
       "<Figure size 720x720 with 2 Axes>"
      ]
     },
     "metadata": {
      "tags": []
     },
     "output_type": "display_data"
    }
   ],
   "source": [
    "# Load and display random samples\n",
    "image_id = random.choice(dataset_train.image_ids)\n",
    "image = dataset_train.load_image(image_id)\n",
    "mask, class_ids= dataset_train.load_mask(image_id)\n",
    "\n",
    "plt.figure(figsize=(10, 10))\n",
    "plt.subplot(1, 2, 1)\n",
    "plt.imshow(image[:, :, 0], cmap='gray')\n",
    "plt.axis('off')\n",
    "\n",
    "plt.subplot(1, 2, 2)\n",
    "masked = np.zeros(image.shape[:2])\n",
    "for i in range(mask.shape[2]):\n",
    "    masked += image[:, :, 0] * mask[:, :, i]\n",
    "plt.imshow(masked, cmap='gray')\n",
    "plt.axis('off')"
   ]
  },
  {
   "cell_type": "code",
   "execution_count": 129,
   "metadata": {
    "colab": {
     "base_uri": "https://localhost:8080/",
     "height": 265
    },
    "colab_type": "code",
    "id": "tDn1oW8EOw-q",
    "outputId": "d34648c1-d6a9-4ffb-f1f3-fa65e8b75857"
   },
   "outputs": [
    {
     "data": {
      "image/png": "[encoded data removed]",
      "text/plain": [
       "<Figure size 432x288 with 1 Axes>"
      ]
     },
     "metadata": {
      "tags": []
     },
     "output_type": "display_data"
    }
   ],
   "source": [
    "plt.hist(np.ravel(image[:, :, 0]),bins = 40)\n",
    "plt.show()"
   ]
  },
  {
   "cell_type": "code",
   "execution_count": 0,
   "metadata": {
    "colab": {},
    "colab_type": "code",
    "id": "5wKtT-XF-CL_"
   },
   "outputs": [],
   "source": [
    "model = modellib.MaskRCNN(mode='training', config=config, model_dir=MODEL_DIR)"
   ]
  },
  {
   "cell_type": "code",
   "execution_count": 131,
   "metadata": {
    "colab": {
     "base_uri": "https://localhost:8080/",
     "height": 1000
    },
    "colab_type": "code",
    "id": "2b0kmWUtOADG",
    "outputId": "a84fc667-3d48-495b-d3e7-d50a0148e821"
   },
   "outputs": [
    {
     "name": "stdout",
     "output_type": "stream",
     "text": [
      "\n",
      "Starting at epoch 0. LR=0.001\n",
      "\n",
      "Checkpoint Path: /content/logs/brain20191102T1638/mask_rcnn_brain_{epoch:04d}.h5\n",
      "Selecting layers to train\n",
      "conv1                  (Conv2D)\n",
      "bn_conv1               (BatchNorm)\n",
      "res2a_branch2a         (Conv2D)\n",
      "bn2a_branch2a          (BatchNorm)\n",
      "res2a_branch2b         (Conv2D)\n",
      "bn2a_branch2b          (BatchNorm)\n",
      "res2a_branch2c         (Conv2D)\n",
      "res2a_branch1          (Conv2D)\n",
      "bn2a_branch2c          (BatchNorm)\n",
      "bn2a_branch1           (BatchNorm)\n",
      "res2b_branch2a         (Conv2D)\n",
      "bn2b_branch2a          (BatchNorm)\n",
      "res2b_branch2b         (Conv2D)\n",
      "bn2b_branch2b          (BatchNorm)\n",
      "res2b_branch2c         (Conv2D)\n",
      "bn2b_branch2c          (BatchNorm)\n",
      "res2c_branch2a         (Conv2D)\n",
      "bn2c_branch2a          (BatchNorm)\n",
      "res2c_branch2b         (Conv2D)\n",
      "bn2c_branch2b          (BatchNorm)\n",
      "res2c_branch2c         (Conv2D)\n",
      "bn2c_branch2c          (BatchNorm)\n",
      "res3a_branch2a         (Conv2D)\n",
      "bn3a_branch2a          (BatchNorm)\n",
      "res3a_branch2b         (Conv2D)\n",
      "bn3a_branch2b          (BatchNorm)\n",
      "res3a_branch2c         (Conv2D)\n",
      "res3a_branch1          (Conv2D)\n",
      "bn3a_branch2c          (BatchNorm)\n",
      "bn3a_branch1           (BatchNorm)\n",
      "res3b_branch2a         (Conv2D)\n",
      "bn3b_branch2a          (BatchNorm)\n",
      "res3b_branch2b         (Conv2D)\n",
      "bn3b_branch2b          (BatchNorm)\n",
      "res3b_branch2c         (Conv2D)\n",
      "bn3b_branch2c          (BatchNorm)\n",
      "res3c_branch2a         (Conv2D)\n",
      "bn3c_branch2a          (BatchNorm)\n",
      "res3c_branch2b         (Conv2D)\n",
      "bn3c_branch2b          (BatchNorm)\n",
      "res3c_branch2c         (Conv2D)\n",
      "bn3c_branch2c          (BatchNorm)\n",
      "res3d_branch2a         (Conv2D)\n",
      "bn3d_branch2a          (BatchNorm)\n",
      "res3d_branch2b         (Conv2D)\n",
      "bn3d_branch2b          (BatchNorm)\n",
      "res3d_branch2c         (Conv2D)\n",
      "bn3d_branch2c          (BatchNorm)\n",
      "res4a_branch2a         (Conv2D)\n",
      "bn4a_branch2a          (BatchNorm)\n",
      "res4a_branch2b         (Conv2D)\n",
      "bn4a_branch2b          (BatchNorm)\n",
      "res4a_branch2c         (Conv2D)\n",
      "res4a_branch1          (Conv2D)\n",
      "bn4a_branch2c          (BatchNorm)\n",
      "bn4a_branch1           (BatchNorm)\n",
      "res4b_branch2a         (Conv2D)\n",
      "bn4b_branch2a          (BatchNorm)\n",
      "res4b_branch2b         (Conv2D)\n",
      "bn4b_branch2b          (BatchNorm)\n",
      "res4b_branch2c         (Conv2D)\n",
      "bn4b_branch2c          (BatchNorm)\n",
      "res4c_branch2a         (Conv2D)\n",
      "bn4c_branch2a          (BatchNorm)\n",
      "res4c_branch2b         (Conv2D)\n",
      "bn4c_branch2b          (BatchNorm)\n",
      "res4c_branch2c         (Conv2D)\n",
      "bn4c_branch2c          (BatchNorm)\n",
      "res4d_branch2a         (Conv2D)\n",
      "bn4d_branch2a          (BatchNorm)\n",
      "res4d_branch2b         (Conv2D)\n",
      "bn4d_branch2b          (BatchNorm)\n",
      "res4d_branch2c         (Conv2D)\n",
      "bn4d_branch2c          (BatchNorm)\n",
      "res4e_branch2a         (Conv2D)\n",
      "bn4e_branch2a          (BatchNorm)\n",
      "res4e_branch2b         (Conv2D)\n",
      "bn4e_branch2b          (BatchNorm)\n",
      "res4e_branch2c         (Conv2D)\n",
      "bn4e_branch2c          (BatchNorm)\n",
      "res4f_branch2a         (Conv2D)\n",
      "bn4f_branch2a          (BatchNorm)\n",
      "res4f_branch2b         (Conv2D)\n",
      "bn4f_branch2b          (BatchNorm)\n",
      "res4f_branch2c         (Conv2D)\n",
      "bn4f_branch2c          (BatchNorm)\n",
      "res5a_branch2a         (Conv2D)\n",
      "bn5a_branch2a          (BatchNorm)\n",
      "res5a_branch2b         (Conv2D)\n",
      "bn5a_branch2b          (BatchNorm)\n",
      "res5a_branch2c         (Conv2D)\n",
      "res5a_branch1          (Conv2D)\n",
      "bn5a_branch2c          (BatchNorm)\n",
      "bn5a_branch1           (BatchNorm)\n",
      "res5b_branch2a         (Conv2D)\n",
      "bn5b_branch2a          (BatchNorm)\n",
      "res5b_branch2b         (Conv2D)\n",
      "bn5b_branch2b          (BatchNorm)\n",
      "res5b_branch2c         (Conv2D)\n",
      "bn5b_branch2c          (BatchNorm)\n",
      "res5c_branch2a         (Conv2D)\n",
      "bn5c_branch2a          (BatchNorm)\n",
      "res5c_branch2b         (Conv2D)\n",
      "bn5c_branch2b          (BatchNorm)\n",
      "res5c_branch2c         (Conv2D)\n",
      "bn5c_branch2c          (BatchNorm)\n",
      "fpn_c5p5               (Conv2D)\n",
      "fpn_c4p4               (Conv2D)\n",
      "fpn_c3p3               (Conv2D)\n",
      "fpn_c2p2               (Conv2D)\n",
      "fpn_p5                 (Conv2D)\n",
      "fpn_p2                 (Conv2D)\n",
      "fpn_p3                 (Conv2D)\n",
      "fpn_p4                 (Conv2D)\n",
      "In model:  rpn_model\n",
      "    rpn_conv_shared        (Conv2D)\n",
      "    rpn_class_raw          (Conv2D)\n",
      "    rpn_bbox_pred          (Conv2D)\n",
      "mrcnn_mask_conv1       (TimeDistributed)\n",
      "mrcnn_mask_bn1         (TimeDistributed)\n",
      "mrcnn_mask_conv2       (TimeDistributed)\n",
      "mrcnn_mask_bn2         (TimeDistributed)\n",
      "mrcnn_class_conv1      (TimeDistributed)\n",
      "mrcnn_class_bn1        (TimeDistributed)\n",
      "mrcnn_mask_conv3       (TimeDistributed)\n",
      "mrcnn_mask_bn3         (TimeDistributed)\n",
      "mrcnn_class_conv2      (TimeDistributed)\n",
      "mrcnn_class_bn2        (TimeDistributed)\n",
      "mrcnn_mask_conv4       (TimeDistributed)\n",
      "mrcnn_mask_bn4         (TimeDistributed)\n",
      "mrcnn_bbox_fc          (TimeDistributed)\n",
      "mrcnn_mask_deconv      (TimeDistributed)\n",
      "mrcnn_class_logits     (TimeDistributed)\n",
      "mrcnn_mask             (TimeDistributed)\n",
      "Epoch 1/5\n",
      "100/100 [==============================] - 95s 953ms/step - loss: 9.8849 - rpn_class_loss: 2.1023 - rpn_bbox_loss: 6.0956 - mrcnn_class_loss: 0.0369 - mrcnn_bbox_loss: 1.4093 - mrcnn_mask_loss: 0.2407 - val_loss: 9.8431 - val_rpn_class_loss: 1.2904 - val_rpn_bbox_loss: 2.2523 - val_mrcnn_class_loss: 0.0072 - val_mrcnn_bbox_loss: 5.6670 - val_mrcnn_mask_loss: 0.6262\n",
      "Epoch 2/5\n",
      "100/100 [==============================] - 71s 714ms/step - loss: 2.1118 - rpn_class_loss: 0.0725 - rpn_bbox_loss: 0.6203 - mrcnn_class_loss: 0.0409 - mrcnn_bbox_loss: 0.8016 - mrcnn_mask_loss: 0.5765 - val_loss: 2.3930 - val_rpn_class_loss: 0.4555 - val_rpn_bbox_loss: 0.5615 - val_mrcnn_class_loss: 0.1713 - val_mrcnn_bbox_loss: 0.5844 - val_mrcnn_mask_loss: 0.6203\n",
      "Epoch 3/5\n",
      "100/100 [==============================] - 70s 700ms/step - loss: 1.1116 - rpn_class_loss: 0.0152 - rpn_bbox_loss: 0.1728 - mrcnn_class_loss: 0.0978 - mrcnn_bbox_loss: 0.3296 - mrcnn_mask_loss: 0.4962 - val_loss: 1.3971 - val_rpn_class_loss: 0.2105 - val_rpn_bbox_loss: 0.3257 - val_mrcnn_class_loss: 0.1326 - val_mrcnn_bbox_loss: 0.3330 - val_mrcnn_mask_loss: 0.3954\n",
      "Epoch 4/5\n",
      "100/100 [==============================] - 73s 729ms/step - loss: 0.6482 - rpn_class_loss: 0.0224 - rpn_bbox_loss: 0.1267 - mrcnn_class_loss: 0.0684 - mrcnn_bbox_loss: 0.1458 - mrcnn_mask_loss: 0.2848 - val_loss: 1.4511 - val_rpn_class_loss: 0.0553 - val_rpn_bbox_loss: 0.4272 - val_mrcnn_class_loss: 0.1750 - val_mrcnn_bbox_loss: 0.4299 - val_mrcnn_mask_loss: 0.3637\n",
      "Epoch 5/5\n",
      "100/100 [==============================] - 72s 725ms/step - loss: 0.5284 - rpn_class_loss: 0.0063 - rpn_bbox_loss: 0.1173 - mrcnn_class_loss: 0.0715 - mrcnn_bbox_loss: 0.1158 - mrcnn_mask_loss: 0.2175 - val_loss: 1.2306 - val_rpn_class_loss: 0.1333 - val_rpn_bbox_loss: 0.3811 - val_mrcnn_class_loss: 0.0871 - val_mrcnn_bbox_loss: 0.2928 - val_mrcnn_mask_loss: 0.3364\n"
     ]
    }
   ],
   "source": [
    "# increase the number of epochs for (potentially) better trained model\n",
    "NUM_EPOCHS =5\n",
    "# Train Mask-RCNN Model \n",
    "import warnings \n",
    "warnings.filterwarnings(\"ignore\")\n",
    "model.train(dataset_train, dataset_val, \n",
    "            learning_rate=config.LEARNING_RATE, \n",
    "            epochs=NUM_EPOCHS, \n",
    "            #augmentation=augmentation, # uncomment to enable augmentation\n",
    "            layers='all')"
   ]
  },
  {
   "cell_type": "code",
   "execution_count": 132,
   "metadata": {
    "colab": {
     "base_uri": "https://localhost:8080/",
     "height": 85
    },
    "colab_type": "code",
    "id": "6y_VTUImODSA",
    "outputId": "86dcf708-ab3c-456c-f95c-f5c130a5e354"
   },
   "outputs": [
    {
     "name": "stdout",
     "output_type": "stream",
     "text": [
      "No weight files in /content/logs/brain20191102T1523\n",
      "No weight files in /content/logs/brain20191102T1524\n",
      "No weight files in /content/logs/brain20191102T1537\n",
      "Found model /content/logs/brain20191102T1638/mask_rcnn_brain_0005.h5\n"
     ]
    }
   ],
   "source": [
    "# select trained model \n",
    "dir_names = next(os.walk(model.model_dir))[1]\n",
    "key = config.NAME.lower()\n",
    "dir_names = filter(lambda f: f.startswith(key), dir_names)\n",
    "dir_names = sorted(dir_names)\n",
    "\n",
    "if not dir_names:\n",
    "    import errno\n",
    "    raise FileNotFoundError(\n",
    "        errno.ENOENT,\n",
    "        \"Could not find model directory under {}\".format(self.model_dir))\n",
    "    \n",
    "fps = []\n",
    "# Pick last directory\n",
    "for d in dir_names: \n",
    "    dir_name = os.path.join(model.model_dir, d)\n",
    "    # Find the last checkpoint\n",
    "    checkpoints = next(os.walk(dir_name))[2]\n",
    "    checkpoints = filter(lambda f: f.startswith(\"mask_rcnn\"), checkpoints)\n",
    "    checkpoints = sorted(checkpoints)\n",
    "    if not checkpoints:\n",
    "        print('No weight files in {}'.format(dir_name))\n",
    "    else: \n",
    "      \n",
    "      checkpoint = os.path.join(dir_name, checkpoints[-1])\n",
    "      fps.append(checkpoint)\n",
    "\n",
    "model_path = sorted(fps)[-1]\n",
    "print('Found model {}'.format(model_path))"
   ]
  },
  {
   "cell_type": "code",
   "execution_count": 133,
   "metadata": {
    "colab": {
     "base_uri": "https://localhost:8080/",
     "height": 955
    },
    "colab_type": "code",
    "id": "pKeNar1a-Dfa",
    "outputId": "01e81ecf-58a1-4448-fd9c-14d813ac7644"
   },
   "outputs": [
    {
     "name": "stdout",
     "output_type": "stream",
     "text": [
      "\n",
      "Configurations:\n",
      "BACKBONE                       resnet50\n",
      "BACKBONE_STRIDES               [4, 8, 16, 32, 64]\n",
      "BATCH_SIZE                     1\n",
      "BBOX_STD_DEV                   [0.1 0.1 0.2 0.2]\n",
      "COMPUTE_BACKBONE_SHAPE         None\n",
      "DETECTION_MAX_INSTANCES        3\n",
      "DETECTION_MIN_CONFIDENCE       0.9\n",
      "DETECTION_NMS_THRESHOLD        0.1\n",
      "FPN_CLASSIF_FC_LAYERS_SIZE     512\n",
      "GPU_COUNT                      1\n",
      "GRADIENT_CLIP_NORM             5.0\n",
      "IMAGES_PER_GPU                 1\n",
      "IMAGE_CHANNEL_COUNT            3\n",
      "IMAGE_MAX_DIM                  64\n",
      "IMAGE_META_SIZE                14\n",
      "IMAGE_MIN_DIM                  64\n",
      "IMAGE_MIN_SCALE                0\n",
      "IMAGE_RESIZE_MODE              square\n",
      "IMAGE_SHAPE                    [64 64  3]\n",
      "LEARNING_MOMENTUM              0.9\n",
      "LEARNING_RATE                  0.001\n",
      "LOSS_WEIGHTS                   {'rpn_class_loss': 1.0, 'rpn_bbox_loss': 1.0, 'mrcnn_class_loss': 1.0, 'mrcnn_bbox_loss': 1.0, 'mrcnn_mask_loss': 1.0}\n",
      "MASK_POOL_SIZE                 14\n",
      "MASK_SHAPE                     [28, 28]\n",
      "MAX_GT_INSTANCES               3\n",
      "MEAN_PIXEL                     [123.7 116.8 103.9]\n",
      "MINI_MASK_SHAPE                (56, 56)\n",
      "NAME                           brain\n",
      "NUM_CLASSES                    2\n",
      "POOL_SIZE                      7\n",
      "POST_NMS_ROIS_INFERENCE        1000\n",
      "POST_NMS_ROIS_TRAINING         200\n",
      "PRE_NMS_LIMIT                  6000\n",
      "ROI_POSITIVE_RATIO             0.33\n",
      "RPN_ANCHOR_RATIOS              [0.5, 1, 2]\n",
      "RPN_ANCHOR_SCALES              (32, 64, 128, 256, 512)\n",
      "RPN_ANCHOR_STRIDE              1\n",
      "RPN_BBOX_STD_DEV               [0.1 0.1 0.2 0.2]\n",
      "RPN_NMS_THRESHOLD              0.7\n",
      "RPN_TRAIN_ANCHORS_PER_IMAGE    16\n",
      "STEPS_PER_EPOCH                100\n",
      "TOP_DOWN_PYRAMID_SIZE          32\n",
      "TRAIN_BN                       False\n",
      "TRAIN_ROIS_PER_IMAGE           16\n",
      "USE_MINI_MASK                  True\n",
      "USE_RPN_ROIS                   True\n",
      "VALIDATION_STEPS               50\n",
      "WEIGHT_DECAY                   0.0001\n",
      "\n",
      "\n",
      "Loading weights from  /content/logs/brain20191102T1638/mask_rcnn_brain_0005.h5\n",
      "Re-starting from epoch 5\n"
     ]
    }
   ],
   "source": [
    "class InferenceConfig(DetectorConfig):\n",
    "    GPU_COUNT = 1\n",
    "    IMAGES_PER_GPU = 1\n",
    "\n",
    "inference_config = InferenceConfig()\n",
    "inference_config.display()\n",
    "\n",
    "# Recreate the model in inference mode\n",
    "model = modellib.MaskRCNN(mode='inference', \n",
    "                          config=inference_config,\n",
    "                          model_dir=MODEL_DIR)\n",
    "\n",
    "# Load trained weights (fill in path to trained weights here)\n",
    "assert model_path != \"\", \"Provide path to trained weights\"\n",
    "print(\"Loading weights from \", model_path)\n",
    "model.load_weights(model_path, by_name=True)"
   ]
  },
  {
   "cell_type": "code",
   "execution_count": 0,
   "metadata": {
    "colab": {},
    "colab_type": "code",
    "id": "1V6JNfNWDx9e"
   },
   "outputs": [],
   "source": [
    "#over rides the prvious one\n",
    "def show_randoms_2(dataset):\n",
    "    fig = plt.figure(figsize=(10,20))\n",
    "    #plt.rcParams['figure.facecolor']='white'\n",
    "    #plt.imshow(ds.pixel_array)\n",
    "    num_imgs=2\n",
    "    for i in range(num_imgs):\n",
    "        \n",
    "        image_id = random.choice(dataset.image_ids)\n",
    "        ds=pydicom.dcmread(DetectorDataset.image_reference(dataset_val,image_id))\n",
    "        a=window_image_2(ds.pixel_array,ds.WindowCenter, ds.WindowWidth, ds.RescaleIntercept, ds.RescaleSlope)\n",
    "        original_image, image_meta, gt_class_id, gt_bbox, gt_mask =\\\n",
    "          modellib.load_image_gt(dataset, inference_config,image_id, use_mini_mask=False)\n",
    "        #return gt_bbox\n",
    "        #print('gt_bbox',gt_bbox)\n",
    "        #gt_bbox[0][0],gt_bbox[0][1],gt_bbox[0][2],gt_bbox[0][3]=gt_bbox[0][0]\n",
    "        #plt.rcParams['figure.facecolor'] = 'white'#add here\n",
    "        #axarr[1,0].set_facecolor('grey')\n",
    "        plt.subplot(num_imgs, 2, 2*i + 1)\n",
    "  \n",
    "        display_instances_2(a, gt_bbox*512/64, gt_mask, gt_class_id, \n",
    "                                    dataset.class_names,\n",
    "                                    colors=get_colors_for_class_ids(gt_class_id), ax=fig.axes[-1])\n",
    "        #return gt_mask\n",
    "    \n",
    "    \n",
    "        plt.title('Ground Truth')\n",
    "        \n",
    "        plt.subplot(num_imgs, 2, 2*i + 2)\n",
    "        \n",
    "        #turn off verbose if you don't want debug messages \n",
    "        results = model.detect([original_image],verbose=1)\n",
    "        r = results[0]\n",
    "        #print('same?',type(r['masks'])==type(gt_mask))\n",
    "        display_instances_2(a,r['rois']*512/64,r['masks'], r['class_ids'], \n",
    "                                    dataset.class_names, r['scores'], \n",
    "                                    colors=get_colors_for_class_ids(r['class_ids']), ax=fig.axes[-1])\n",
    "        #print(r['scores'],'results') this is the result\n",
    "   \n",
    "        plt.title('Prediction')"
   ]
  },
  {
   "cell_type": "code",
   "execution_count": 0,
   "metadata": {
    "colab": {},
    "colab_type": "code",
    "id": "vx_dIujy-XAX"
   },
   "outputs": [],
   "source": [
    "def get_colors_for_class_ids(class_ids):\n",
    "    colors = []\n",
    "    for class_id in class_ids:\n",
    "        if class_id == 1:\n",
    "            colors.append((.941, .204, .204))\n",
    "    return colors"
   ]
  },
  {
   "cell_type": "code",
   "execution_count": 0,
   "metadata": {
    "colab": {},
    "colab_type": "code",
    "id": "dqVrar7Xotbn"
   },
   "outputs": [],
   "source": [
    "#override for input image size\n",
    "def window_image_2(img, window_center,window_width, intercept, slope):\n",
    "      if type(window_center) is pydicom.multival.MultiValue: \n",
    "        window_center = window_center[0] \n",
    "      if type(window_width) is pydicom.multival.MultiValue: \n",
    "        window_width = window_width[0]\n",
    "      if slope != 1 or intercept != 0:\n",
    "        img = (img*slope +intercept)\n",
    "      img_min = window_center - window_width/2\n",
    "      img_max = window_center + window_width/2\n",
    "      img[img<img_min] = img_min\n",
    "      img[img>img_max] = img_max \n",
    "      if len(img.shape) != 3 or img.shape[2] != 3:\n",
    "            image = np.stack((img,) * 3, -1)\n",
    "      #drw = Image.fromarray(image,'RGB')\n",
    "      #drw.show()\n",
    "      return image\n"
   ]
  },
  {
   "cell_type": "code",
   "execution_count": 0,
   "metadata": {
    "colab": {},
    "colab_type": "code",
    "id": "q2DdJZLCSlZ0"
   },
   "outputs": [],
   "source": [
    "  #override for the final output\n",
    "  \n",
    "  def display_instances_2(image, boxes, masks, class_ids, class_names,\n",
    "                      scores=None, title=\"\",\n",
    "                      figsize=(16, 16), ax=None,\n",
    "                      show_mask=True, show_bbox=True,\n",
    "                      colors=None, captions=None):\n",
    "    \"\"\"\n",
    "    boxes: [num_instance, (y1, x1, y2, x2, class_id)] in image coordinates.\n",
    "    masks: [height, width, num_instances]\n",
    "    class_ids: [num_instances]\n",
    "    class_names: list of class names of the dataset\n",
    "    scores: (optional) confidence scores for each box\n",
    "    title: (optional) Figure title\n",
    "    show_mask, show_bbox: To show masks and bounding boxes or not\n",
    "    figsize: (optional) the size of the image\n",
    "    colors: (optional) An array or colors to use with each object\n",
    "    captions: (optional) A list of strings to use as captions for each object\n",
    "    \"\"\"\n",
    "    # Number of instances\n",
    "\n",
    "    N = boxes.shape[0]\n",
    "    if not N:\n",
    "        print(\"\\n*** No instances to display *** \\n\")\n",
    "    else:\n",
    "        assert boxes.shape[0] == masks.shape[-1] == class_ids.shape[0]\n",
    "\n",
    "    # If no axis is passed, create one and automatically call show()\n",
    "    auto_show = False\n",
    "    if not ax:\n",
    "        _, ax = plt.subplots(1, figsize=figsize)\n",
    "        #_.set_facecolor(\"black\")##here\n",
    "        auto_show = True\n",
    "\n",
    "    # Generate random colors\n",
    "    colors = colors or random_colors(N)\n",
    "\n",
    "    # Show area outside image boundaries.\n",
    "    height, width = image.shape[:2]\n",
    "    ax.set_ylim(height + 10, -10)\n",
    "    ax.set_xlim(-10, width + 10)\n",
    "    ax.axis('off')\n",
    "    ax.set_title(title)\n",
    "    masked_image = image.astype(np.uint64).copy()\n",
    "    \n",
    "    for i in range(N):\n",
    "        color = colors[i]\n",
    "\n",
    "        # Bounding box\n",
    "        if not np.any(boxes[i]):\n",
    "            # Skip this instance. Has no bbox. Likely lost in image cropping.\n",
    "            continue\n",
    "        y1, x1, y2, x2 = boxes[i]\n",
    "        if show_bbox:\n",
    "            p = patches.Rectangle((x1, y1), x2 - x1, y2 - y1, linewidth=2,\n",
    "                                alpha=0.7, linestyle=\"dashed\",\n",
    "                                edgecolor=color, facecolor='None')#NONE\n",
    "            ax.add_patch(p)\n",
    "\n",
    "        # Label\n",
    "        if not captions:\n",
    "            class_id = class_ids[i]\n",
    "            score = scores[i] if scores is not None else None\n",
    "            label = class_names[class_id]\n",
    "            caption = \"{} {:.3f}\".format(label, score) if score else label\n",
    "        else:\n",
    "            caption = captions[i]\n",
    "        ax.text(x1, y1 + 8, caption,\n",
    "                color='w', size=11, backgroundcolor=\"None\")#none\n",
    " \n",
    "       \n",
    "        mask=resize_ma(boxes,masks,image.shape) \n",
    "        #print('mask.shape',mask.shape)\n",
    "        #return mask\n",
    "        if show_mask:\n",
    "              apply_mask_2(masked_image, mask, color)#mask!!\n",
    "        # Mask Polygon\n",
    "        # Pad to ensure proper polygons for masks that touch image edges.\n",
    "\n",
    "        padded_mask = np.zeros(\n",
    "            (mask.shape[0]+2, mask.shape[1]+2 ), dtype=np.uint8)#hereunit\n",
    "        padded_mask[1:-1, 1:-1] = mask\n",
    "        \n",
    "\n",
    "        #newly added here \n",
    "        \n",
    "        #rect = patches.Rectangle((boxes[0][1],boxes[0][0]),boxes[0][3]-boxes[0][1],boxes[0][2]-boxes[0][0],linewidth=1,edgecolor='r',alpha=0.2,facecolor='red')\n",
    "        #ax.add_patch(rect)\n",
    "        \n",
    "      \n",
    "        contours = find_contours(padded_mask, 0.5)#0.5\n",
    "        for verts in contours:\n",
    "            # Subtract the padding and flip (y, x) to (x, y)\n",
    "            verts = np.fliplr(verts) - 1\n",
    "            #print(verts)\n",
    "            p = Polygon(verts,facecolor=\"None\", edgecolor=color)#None\n",
    "            ax.add_patch(p)\n",
    "      \n",
    "        \n",
    "       \n",
    "    #ax.imshow(masked_image.astype(np.uint8))##here\n",
    "    \n",
    "    \n",
    "    \n",
    "    \n",
    "    #print('aaaaaaa',masked_image.dtype)\n",
    "    ax.imshow(masked_image.astype(np.uint64))\n",
    "    #,cmap='gray')#here [:,:,0]here\n",
    "    \n",
    "    \n",
    "    #return(masked_image.astype(np.uint8))\n",
    "    if auto_show: \n",
    "        plt.show()\n",
    "      \n",
    "\n",
    "      \n"
   ]
  },
  {
   "cell_type": "code",
   "execution_count": 0,
   "metadata": {
    "colab": {},
    "colab_type": "code",
    "id": "70BbXDZ5Sqt5"
   },
   "outputs": [],
   "source": [
    "#override for mask size\n",
    "def apply_mask_2(image, mask, color, alpha=0.3): #0.3\n",
    "    \"\"\"Apply the given mask to the image.\n",
    "    \"\"\"\n",
    "    for c in range(3):\n",
    "        image[:, :, c] = np.where(mask == 1,\n",
    "                                  image[:, :, c]  + alpha * color[c] * 255,image[:, :, c])\n",
    "    return image\n"
   ]
  },
  {
   "cell_type": "code",
   "execution_count": 0,
   "metadata": {
    "colab": {},
    "colab_type": "code",
    "id": "T96GntUB4zeT"
   },
   "outputs": [],
   "source": [
    "\n",
    "def resize_ma(bbox,masks,shape):\n",
    "    times=shape[0]/masks.shape[0]\n",
    "    #print('ga',masks[0][0][1])\n",
    "    #print('times',times)\n",
    "    liss=[[False for i in range(shape[0])] for j in range(shape[1])]\n",
    "    #print(bbox[1],bbox[1]+bbox[3],bbox[0],bbox[0]+bbox[2])\n",
    "    for i in range(len(masks)):\n",
    "      for j in range(len(masks[0])):\n",
    "        if masks[i][j][0]==True:\n",
    "          for k in range(i*8,i*8+8):\n",
    "            for l in range(j*8,j*8+8):\n",
    "              liss[k][l]=True\n",
    "    b = np.asarray(liss)\n",
    "    return b"
   ]
  },
  {
   "cell_type": "code",
   "execution_count": 151,
   "metadata": {
    "colab": {
     "base_uri": "https://localhost:8080/",
     "height": 1000
    },
    "colab_type": "code",
    "id": "HpH41RuGUqen",
    "outputId": "906d80e8-c329-4444-d8d7-9f9b25ba05c5"
   },
   "outputs": [
    {
     "name": "stdout",
     "output_type": "stream",
     "text": [
      "Processing 1 images\n",
      "image                    shape: (64, 64, 3)           min:   10.00000  max: 2442.00000  uint16\n",
      "molded_images            shape: (1, 64, 64, 3)        min: -113.70000  max: 2338.10000  float64\n",
      "image_metas              shape: (1, 14)               min:    0.00000  max:   64.00000  int64\n",
      "anchors                  shape: (1, 1023, 4)          min:   -5.74665  max:    5.73077  float32\n",
      "Processing 1 images\n",
      "image                    shape: (64, 64, 3)           min:    2.00000  max: 2339.00000  uint16\n",
      "molded_images            shape: (1, 64, 64, 3)        min: -121.70000  max: 2235.10000  float64\n",
      "image_metas              shape: (1, 14)               min:    0.00000  max:   64.00000  int64\n",
      "anchors                  shape: (1, 1023, 4)          min:   -5.74665  max:    5.73077  float32\n"
     ]
    },
    {
     "data": {
      "image/png": "[encoded data removed]",
      "text/plain": [
       "<Figure size 720x1440 with 4 Axes>"
      ]
     },
     "metadata": {
      "tags": []
     },
     "output_type": "display_data"
    }
   ],
   "source": [
    "show_randoms_2(dataset_val)"
   ]
  }
 ],
 "metadata": {
  "accelerator": "TPU",
  "colab": {
   "collapsed_sections": [],
   "machine_shape": "hm",
   "name": "brain segmentation.ipynb",
   "provenance": []
  },
  "kernelspec": {
   "display_name": "Python 3",
   "language": "python",
   "name": "python3"
  },
  "language_info": {
   "codemirror_mode": {
    "name": "ipython",
    "version": 3
   },
   "file_extension": ".py",
   "mimetype": "text/x-python",
   "name": "python",
   "nbconvert_exporter": "python",
   "pygments_lexer": "ipython3",
   "version": "3.7.3"
  }
 },
 "nbformat": 4,
 "nbformat_minor": 1
}
